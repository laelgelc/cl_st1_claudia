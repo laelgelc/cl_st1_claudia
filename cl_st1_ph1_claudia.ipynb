{
 "cells": [
  {
   "metadata": {},
   "cell_type": "markdown",
   "source": [
    "<center>\n",
    "<img src=\"https://laelgelcpublic.s3.sa-east-1.amazonaws.com/lael_50_years_narrow_white.png.no_years.400px_96dpi.png\" width=\"300\" alt=\"LAEL 50 years logo\">\n",
    "<h3>APPLIED LINGUISTICS GRADUATE PROGRAMME (LAEL)</h3>\n",
    "</center>\n",
    "<hr>"
   ],
   "id": "71d1c0b5dc7de444"
  },
  {
   "metadata": {},
   "cell_type": "markdown",
   "source": "# Corpus Linguistics - Phase 1 - Claudia",
   "id": "d53be354862d86b6"
  },
  {
   "metadata": {},
   "cell_type": "markdown",
   "source": "The purpose of this document is extracting data for a pilot Lexical Multi-Dimensional Analysis.",
   "id": "1c73bcc384851b49"
  },
  {
   "metadata": {},
   "cell_type": "markdown",
   "source": "## Required Python packages",
   "id": "ff521821f32251fa"
  },
  {
   "metadata": {},
   "cell_type": "markdown",
   "source": [
    "- pandas\n",
    "- PyMuPDF\n",
    "- tqdm"
   ],
   "id": "e37eee7a14702399"
  },
  {
   "metadata": {},
   "cell_type": "markdown",
   "source": "## Import the required libraries",
   "id": "db4d382e02390677"
  },
  {
   "metadata": {
    "ExecuteTime": {
     "end_time": "2025-09-30T19:44:03.023652Z",
     "start_time": "2025-09-30T19:44:02.123347Z"
    }
   },
   "cell_type": "code",
   "source": [
    "import os\n",
    "import sys\n",
    "import pandas as pd\n",
    "import fitz  # PyMuPDF\n",
    "import logging\n",
    "from tqdm import tqdm\n",
    "import shutil\n",
    "import nltk\n",
    "from nltk.tokenize import word_tokenize\n",
    "import numpy as np\n",
    "import seaborn as sns\n",
    "import matplotlib.pyplot as plt"
   ],
   "id": "f7dd0d4d7bafcf24",
   "outputs": [],
   "execution_count": 1
  },
  {
   "metadata": {},
   "cell_type": "markdown",
   "source": "## Define input variables",
   "id": "32ebf8485bf82b02"
  },
  {
   "metadata": {
    "ExecuteTime": {
     "end_time": "2025-09-09T16:52:20.786665Z",
     "start_time": "2025-09-09T16:52:20.780769Z"
    }
   },
   "cell_type": "code",
   "outputs": [],
   "execution_count": 2,
   "source": [
    "input_directory = '3Corpus_VEm_dividido'\n",
    "output_directory = 'dataset'\n",
    "log_filename = f\"{output_directory}/cl_st1_ph1_claudia.log\""
   ],
   "id": "1b6276f6a22fd572"
  },
  {
   "metadata": {},
   "cell_type": "markdown",
   "source": "## Create output directory",
   "id": "4ccb74206541d93a"
  },
  {
   "metadata": {
    "ExecuteTime": {
     "end_time": "2025-07-19T15:48:14.819938Z",
     "start_time": "2025-07-19T15:48:14.812308Z"
    }
   },
   "cell_type": "code",
   "outputs": [
    {
     "name": "stdout",
     "output_type": "stream",
     "text": [
      "Output directory successfully created.\n"
     ]
    }
   ],
   "execution_count": 3,
   "source": [
    "# Check if the output directory already exists. If it does, do nothing. If it doesn't exist, create it.\n",
    "if os.path.exists(output_directory):\n",
    "    print('Output directory already exists.')\n",
    "else:\n",
    "    try:\n",
    "        os.makedirs(output_directory)\n",
    "        print('Output directory successfully created.')\n",
    "    except OSError as e:\n",
    "        print('Failed to create the directory:', e)\n",
    "        sys.exit(1)"
   ],
   "id": "303189550b76a07c"
  },
  {
   "metadata": {},
   "cell_type": "markdown",
   "source": "## Set up logging",
   "id": "274027e58390bcc5"
  },
  {
   "metadata": {
    "ExecuteTime": {
     "end_time": "2025-09-09T16:52:28.950086Z",
     "start_time": "2025-09-09T16:52:28.944609Z"
    }
   },
   "cell_type": "code",
   "outputs": [],
   "execution_count": 3,
   "source": [
    "logging.basicConfig(\n",
    "    level=logging.INFO,\n",
    "    format='%(asctime)s - %(levelname)s - %(message)s',\n",
    "    filename = log_filename\n",
    ")"
   ],
   "id": "dd1d9e4b5bd2fabc"
  }
 ],
 "metadata": {
  "kernelspec": {
   "display_name": "Python 3",
   "language": "python",
   "name": "python3"
  },
  "language_info": {
   "codemirror_mode": {
    "name": "ipython",
    "version": 2
   },
   "file_extension": ".py",
   "mimetype": "text/x-python",
   "name": "python",
   "nbconvert_exporter": "python",
   "pygments_lexer": "ipython2",
   "version": "2.7.6"
  }
 },
 "nbformat": 4,
 "nbformat_minor": 5
}
